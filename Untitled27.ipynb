{
  "nbformat": 4,
  "nbformat_minor": 0,
  "metadata": {
    "colab": {
      "name": "Untitled27.ipynb",
      "provenance": [],
      "collapsed_sections": [],
      "authorship_tag": "ABX9TyP523qZyAEJtIw9OzGbHPuW",
      "include_colab_link": true
    },
    "kernelspec": {
      "name": "python3",
      "display_name": "Python 3"
    }
  },
  "cells": [
    {
      "cell_type": "markdown",
      "metadata": {
        "id": "view-in-github",
        "colab_type": "text"
      },
      "source": [
        "<a href=\"https://colab.research.google.com/github/mlokendra/Assignment/blob/main/Untitled27.ipynb\" target=\"_parent\"><img src=\"https://colab.research.google.com/assets/colab-badge.svg\" alt=\"Open In Colab\"/></a>"
      ]
    },
    {
      "cell_type": "code",
      "metadata": {
        "colab": {
          "base_uri": "https://localhost:8080/"
        },
        "id": "OXcmQyyyXxR0",
        "outputId": "59bda092-de57-46e1-9eab-e8816fa9f690"
      },
      "source": [
        "!apt-get -qq install -y libsm6 libxext6 && pip install -q -U opencv-python"
      ],
      "execution_count": null,
      "outputs": [
        {
          "output_type": "stream",
          "text": [
            "\u001b[K     |████████████████████████████████| 50.4MB 95kB/s \n",
            "\u001b[31mERROR: albumentations 0.1.12 has requirement imgaug<0.2.7,>=0.2.5, but you'll have imgaug 0.2.9 which is incompatible.\u001b[0m\n",
            "\u001b[?25h"
          ],
          "name": "stdout"
        }
      ]
    },
    {
      "cell_type": "code",
      "metadata": {
        "id": "mxWtlAAAYRMD"
      },
      "source": [
        "import os\n",
        "import cv2\n",
        "import numpy as np\n",
        "from random import random, randint, choices\n",
        "import keras\n",
        "from keras.models import Sequential, Model\n",
        "from keras.layers import Dense, Dropout, Activation, Flatten\n",
        "from keras.layers import Conv2D, MaxPooling2D, Input\n",
        "import matplotlib.pyplot as plt\n",
        "from google.colab.patches import cv2_imshow"
      ],
      "execution_count": 74,
      "outputs": []
    },
    {
      "cell_type": "code",
      "metadata": {
        "id": "6_S6WalpYXTx",
        "colab": {
          "base_uri": "https://localhost:8080/"
        },
        "outputId": "154029f2-1554-4d93-da90-c3be00526d1e"
      },
      "source": [
        "i=0\n",
        "f in os.walk('./electoral-tagged')\n",
        "print(f)\n"
      ],
      "execution_count": 15,
      "outputs": [
        {
          "output_type": "stream",
          "text": [
            "['26151.png', '78947.png', '24356.png', '53557.png', '41783.png', '59986.png', '59356.png', '69562.png', '46266.png', '41485.png', '34227.png', '76646.png', '67326.png', '11425.png', '29847.png', '24187.png', '98251.png', '42374.png', '15316.png', '66711.png', '73428.png', '82683.png', '97647.png', '84889.png', '48218.png', '57695.png', '11336.png', '52566.png', '91379.png', '12972.png', '36717.png', '79913.png', '15234.png', '73857.png', '76565.png', '98377.png', '16892.png', '46724.png', '22322.png', '39919.png', '37155.png', '79169.png', '28854.png', '38981.png', '18443.png', '75347.png', '38236.png', '93853.png', '63515.png', '14347.png', '53278.png', '13788.png', '37395.png', '22434.png', '52883.png', '23182.png', '73883.png', '62736.png', '86985.png', '73392.png', '32585.png', '49593.png', '84662.png', '19552.png', '63372.png', '81567.png', '86319.png', '35518.png', '65773.png', '83648.png', '39727.png', '33894.png', '49181.png', '32439.png', '99892.png', '54553.png', '23953.png', '97748.png', '55892.png', '19226.png', '43482.png', '18691.png', '41788.png', '52926.png', '46675.png', '39644.png', '62415.png', '74684.png', '99761.png', '33962.png', '27481.png', '61754.png', '54622.png', '73693.png', '51894.png', '12351.png', '67291.png', '15289.png', '55174.png', '53213.png', '83275.png', '38271.png', '86128.png', '97154.png', '13999.png', '33412.png', '24193.png', '14664.png', '17567.png', '41123.png', '67345.png', '97723.png', '46797.png', '89198.png', '88419.png', '52218.png', '47986.png', '22988.png', '19315.png', '39332.png', '38624.png', '81288.png', '89471.png', '26219.png', '27486.png', '59611.png', '17837.png', '63236.png', '21765.png', '96997.png', '73237.png', '81552.png', '62158.png', '78515.png', '41212.png', '94426.png', '27983.png', '36531.png', '63327.png', '76184.png', '32287.png', '38286.png', '64482.png', '38633.png', '33466.png', '61819.png', '83977.png', '57196.png', '66795.png', '65557.png', '58277.png', '94299.png', '31392.png', '41245.png', '35668.png', '32755.png', '45777.png', '54314.png', '42876.png', '88293.png', '32821.png', '27658.png', '94867.png', '33898.png', '46135.png', '58957.png', '33385.png', '24548.png', '57335.png', '27429.png', '81445.png', '41115.png', '72733.png', '78592.png', '48145.png', '72444.png', '24368.png', '35756.png', '44859.png', '65616.png', '65887.png', '63698.png', '88763.png', '89557.png', '34342.png', '96594.png', '91597.png', '66766.png', '27229.png', '63894.png', '47896.png', '14182.png', '98466.png', '92642.png', '21417.png', '21186.png', '24537.png', '58866.png', '41948.png', '67594.png', '41478.png', '49222.png', '13374.png', '33944.png', '96781.png', '14746.png', '91174.png', '85798.png', '14134.png', '25557.png', '13496.png', '28319.png', '74254.png', '38582.png', '16282.png', '49874.png', '86238.png', '56232.png', '86542.png', '25936.png', '15647.png', '31956.png', '81227.png', '25492.png', '27266.png', '42559.png', '95224.png', '35395.png', '73276.png', '46828.png', '66531.png', '67318.png', '15325.png', '12931.png', '12386.png', '78665.png', '47194.png', '22421.png', '85299.png', '24295.png', '21965.png', '83423.png', '19123.png', '26588.png', '69598.png', '73481.png', '45341', '81169.png', '16911.png', '49399.png', '81888.png', '74869.png', '55257.png', '84591.png', '68191.png', '96994.png', '81619.png', '86413.png', '48144.png', '95792.png', '45998.png', '11482.png', '38346.png', '12649.png', '71368.png', '78251.png', '86828.png', '22247.png', '33371.png', '25866.png', '85379.png', '36965.png', '61835.png', '25329.png', '53177.png', '65384.png', '48866.png', '26984.png', '51817.png', '36941.png', '87773.png', '24948.png', '71592.png', '84614.png', '86724.png', '62231.png', '46456.png', '82896.png', '32878.png', '72125.png', '26462.png', '87819.png', '34644.png', '11835.png', '36344.png', '66651.png', '28485.png', '88596.png', '92873.png', '141931.png', '68221.png', '27741.png', '69431.png', '97613.png', '64675.png', '36163.png', '93595.png', '69925.png', '99953.png', '28225.png', '73739.png', '17578.png', '18549.png', '73953.png', '87272.png', '15312.png', '48225.png', '99228.png', '45398.png', '74549.png', '74156.png', '79526.png', '38755.png', '31326.png', '23178.png', '96321.png', '44197.png', '13514.png', '91472.png', '53236.png', '86275.png', '44177.png', '75845.png', '85469.png', '34331.png', '55159.png', '28388.png', '94516.png', '74643.png', '34736.png', '51544.png', '62225.png', '82927.png', '41993.png', '81772.png', '74148.png', '16737.png', '11529.png', '69546.png', '71146.png', '69497.png', '67498.png', '37596.png', '72293.png', '96973.png', '86571.png', '63386.png', '74897.png', '99752.png', '77124.png', '76271.png', '22788.png', '27565.png', '56155.png', '82835.png', '13767.png', '89741.png', '53195.png', '38227.png', '36574.png', '54944.png', '73191.png', '29741.png', '33598.png', '24715.png', '54512.png', '61345.png', '15984.png', '47593.png', '16859.png', '35839.png', '72844.png', '65525.png', '99519.png', '53189.png', '29756.png', '89996.png', '89597.png', '64157.png', '13868.png', '17493.png', '94888.png', '14926.png', '58717.png', '23911.png', '62634.png', '77353.png', '57242.png', '32941.png', '51824.png', '52235.png', '89311.png', '87975.png', '92488.png', '46291.png', '41911.png', '16957.png', '59617.png', '67449.png', '47974.png', '83195.png', '23289.png', '23818.png', '87884.png', '55241.png', '52519.png', '92258.png', '48538.png', '36578.png', '25396.png', '15982.png', '32347.png', '29432.png', '52158.png', '11114.png', '42741.png', '424224.png', '12338.png', '94283.png', '49823.png', '51818.png', '52135.png', '33539.png', '89612.png', '27522.png', '96264.png', '22147.png', '97372.png', '59848.png', '76266.png', '49627.png', '66698.png', '24841.png', '15634.png', '42496.png', '21217.png', '54457.png', '13284.png', '89947.png', '39588.png', '59268.png', '98647.png', '81192.png', '79575.png', '83658.png', '37634.png', '81111.png', '46994.png', '25897.png', '77248.png', '26294.png', '72624.png', '51545.png', '75185.png', '24353.png', '33858.png', '41352.png', '64471.png', '36943.png', '88218.png', '51839.png', '96332.png', '71415.png', '79437.png', '49197.png', '38799.png', '25351.png', '89293.png', '96339.png', '11367.png', '71229.png', '15873.png', '35122.png', '85531.png', '87188.png', '19479.png', '11634.png', '16118.png', '17862.png', '45184.png', '81179.png', '38684.png', '62371.png', '73338.png', '47565.png', '46625.png', '36849.png', '44175.png', '38579.png', '17218.png', '23966.png', '63789.png', '24757.png', '39742.png', '88772.png', '84419.png', '96633.png', '39917.png', '91794.png', '95812.png', '69189.png', '93548.png', '57332.png', '84729.png', '41125.png', '77514.png', '71285.png', '21822.png', '37735.png', '38598.png', '18878.png', '41365.png', '92599.png', '64174.png', '57465.png', '85734.png', '58899.png', '32522.png', '75947.png', '94826.png', '66412.png', '19732.png', '17579.png', '98649.png', '71944.png', '69114.png', '65549.png', '45325.png', '95127.png', '13273.png', '75983.png', '28792.png', '61575.png', '34531.png', '19595.png', '33938.png', '64195.png', '43269.png', '89885.png', '79143.png', '58157.png', '62122.png', '14461.png', '79149.png', '71827.png', '71941.png', '34956.png', '86429.png', '83845.png', '97216.png', '78572.png', '84687.png', '44719.png', '46452.png', '57717.png', '11483.png', '22115.png', '34646.png', '77774.png', '15835.png', '77763.png', '87981.png', '19374.png', '18644.png', '23133.png', '95784.png', '53455.png', '53612.png', '43213.png', '23913.png', '11575.png', '32492.png', '54862.png', '94741.png', '67784.png', '16146.png', '72825.png', '17584.png', '25998.png', '48975.png', '97521.png', '44263.png', '33772.png', '81829.png', '59666.png', '75873.png', '87442.png', '28394.png', '66244.png', '31519.png', '66637.png', '24752.png', '23743.png', '56553.png', '47325.png', '92662.png', '97198.png', '24922.png', '42357.png', '45826.png', '42591.png', '34184.png', '19735.png', '12194.png', '44562.png', '79662.png', '13224.png', '83122.png', '53225.png', '59991.png', '37161.png', '34398.png', '47989.png', '16373.png', '17193.png', '71843.png', '36967.png', '87744.png', '52531.png', '77654.png', '17724.png', '87668.png', '39752.png', '61526.png', '14762.png', '97396.png', '87137.png', '21394.png', '87776.png', '68712.png', '41999.png', '14373.png', '51177.png', '44924.png', '59199.png', '89657.png', '57916.png', '98318.png', '51271.png', '77261.png', '14599.png', '18773.png', '44485.png', '21846.png', '23393.png', '27375.png', '49477.png', '94592.png', '98655.png', '67893.png', '48746.png', '84446.png', '25978.png', '89162.png', '64657.png', '42619.png', '59932.png', '75469.png', '46631.png', '46575.png', '78285.png', '77396.png', '62563.png', '16889.png', '35633.png', '58665.png', '36877.png', '89254.png', '36298.png', '55317.png', '31136.png', '88639.png', '18169.png', '54253.png', '29566.png', '39117.png', '74176.png', '93649.png', '82363.png', '24634.png', '67141.png', '83824.png', '68163.png', '63791.png', '47936.png', '56755.png', '62344.png', '53695.png', '53323.png', '63234.png', '63745.png', '66591.png', '72757.png', '72224.png', '24758.png', '19239.png', '78262.png', '99866.png', '72313.png', '25619.png', '58945.png', '36268.png', '41279.png', '85151.png', '68624.png', '16434.png', '18137.png', '34459.png', '54867.png', '18992.png', '33762.png', '86432.png', '74548.png', '87836.png', '46682.png', '25769.png', '46493.png', '13346.png', '63279.png', '61275.png', '78473.png', '39911.png', '79656.png', '56175.png', '55374.png', '94959.png', '63539.png', '11873.png', '72246.png', '66843.png', '28486.png', '12917.png', '76518.png', '55818.png', '37324.png', '31516.png', '33171.png', '73259.png', '42511.png', '25142.png', '64653.png', '79955.png', '33437.png', '12453.png', '26886.png', '26518.png', '34149.png', '13676.png', '53257.png', '94854.png', '91562.png', '23746.png', '51293.png', '81483.png', '87858.png', '95131.png', '53149.png', '86926.png', '66586.png', '75414.png', '87344.png', '63588.png', '64861.png', '97761.png', '36311.png', '35678.png', '74142.png', '81784.png', '55881.png', '13756.png', '37484.png', '85595.png', '77593.png', '99376.png', '98838.png', '86338.png', '82595.png', '86196.png', '82711.png', '61595.png', '46777.png', '24573.png', '89766.png', '37149.png', '67885.png', '29565.png', '41588.png', '72517.png', '11522.png', '76989.png', '63881.png', '75612.png', '61115.png', '35766.png', '43983.png', '24451.png', '15741.png', '62484.png', '41379.png', '35137.png', '32315.png', '19838.png', '55212.png', '78732.png', '96329.png', '98429.png', '54448.png', '98651.png', '85984.png', '45647.png', '25594.png', '45687.png', '85642.png', '27344.png', '44697.png', '54255.png', '71624.png', '52746.png', '31342.png', '59883.png', '88765.png', '22934.png', '37667.png', '98961.png', '44418.png', '67656.png', '16254.png', '19869.png', '63657.png', '27451.png', '69323.png', '46776.png', '43169.png', '32664.png', '84722.png', '96983.png', '14797.png', '32858.png', '97491.png', '82519.png', '88957.png', '88443.png', '82469.png', '96266.png', '22528.png', '34677.png', '48341.png', '81327.png', '71898.png', '93474.png', '37889.png', '94496.png', '95366.png', '54813.png', '33337.png', '13598.png', '62269.png', '66991.png', '76172.png', '29457.png', '51282.png', '46219.png', '75687.png', '26731.png', '97889.png', '94438.png', '31418.png', '18863.png', '49226.png', '46516.png', '39376.png', '96799.png', '49955.png', '52524.png', '16936.png', '85685.png', '76653.png', '19219.png', '67517.png', '76375.png', '24943.png', '51457.png', '99363.png', '68453.png', '88794', '51844.png', '13822.png', '79298.png', '45471.png', '17785.png', '87559.png', '68239.png', '86254.png', '32812.png', '48727.png', '96865.png', '95384.png', '72518.png', '12666.png', '79581.png', '14894.png', '82989.png', '57569.png', '98766.png', '16199.png', '89855.png', '37364.png', '26451.png', '76576.png', '93479.png', '91512.png', '15823.png', '75567.png', '98975.png', '74977.png', '54767.png', '59465.png', '32329.png', '66652.png', '97687.png', '18532.png', '85657.png', '51136.png', '55152.png', '36856.png', '72473.png', '91836.png', '91598.png', '12968.png', '36757.png']\n"
          ],
          "name": "stdout"
        }
      ]
    },
    {
      "cell_type": "code",
      "metadata": {
        "id": "5Bp_fhLT61iE"
      },
      "source": [
        "def load_data(path, test_split=0.1):\n",
        "    print ('loading dataset...')\n",
        "    y_train = []\n",
        "    y_test = []\n",
        "    x_train = []\n",
        "    x_test = []\n",
        "\n",
        "    # r=root, d=directories, f = files\n",
        "    counter = 0\n",
        "    for r, d, f in os.walk(path):\n",
        "        for fl in f[:100]:\n",
        "            if '.png' in fl:\n",
        "                flr = fl.split('_')[0]\n",
        "                counter += 1\n",
        "                label = np.zeros((NUM_OF_LETTERS, 10))\n",
        "                for i in range(NUM_OF_LETTERS):\n",
        "                    label[i, int(flr[i])] = 1\n",
        "\n",
        "                img = cv2.imread(os.path.join(r, fl))\n",
        "                img = cv2.cvtColor(img, cv2.COLOR_BGR2GRAY)\n",
        "                img = cv2.resize(img, (int(135/2), int(50/2)), interpolation=cv2.INTER_AREA)\n",
        "                img = np.reshape(img, (img.shape[0], img.shape[1], 1))\n",
        "\n",
        "                if random() < test_split:\n",
        "                    y_test.append(label)\n",
        "                    x_test.append(img)\n",
        "                else:\n",
        "                    y_train.append(label)\n",
        "                    x_train.append(img)\n",
        "\n",
        "\n",
        "    print('dataset size:', counter, '(train=%d, test=%d)' % (len(y_train), len(y_test)))\n",
        "    return np.array(x_train), np.array(y_train), np.array(x_test), np.array(y_test)"
      ],
      "execution_count": 53,
      "outputs": []
    },
    {
      "cell_type": "code",
      "metadata": {
        "colab": {
          "base_uri": "https://localhost:8080/"
        },
        "id": "GrpJ2sXU9gpx",
        "outputId": "3fa7ddc6-470d-4d16-e91c-912b9b1c39de"
      },
      "source": [
        "NUM_OF_LETTERS=5\n",
        "x_train, y_train, x_test, y_test = load_data('./electoral-tagged')\n",
        "x_train = x_train.astype('float32')\n",
        "x_test = x_test.astype('float32')\n",
        "x_train /= 255\n",
        "x_test /= 255"
      ],
      "execution_count": 25,
      "outputs": [
        {
          "output_type": "stream",
          "text": [
            "loading dataset...\n",
            "dataset size: 938 (train=858, test=80)\n"
          ],
          "name": "stdout"
        }
      ]
    },
    {
      "cell_type": "code",
      "metadata": {
        "colab": {
          "base_uri": "https://localhost:8080/"
        },
        "id": "VkTzoLtU9uGT",
        "outputId": "85e57080-ee7c-4fcd-8e73-3711382088ce"
      },
      "source": [
        "\n",
        "print(x_train.shape)\n",
        "print(y_train.shape)\n",
        "print(x_test.shape)\n",
        "print(y_test.shape)"
      ],
      "execution_count": 26,
      "outputs": [
        {
          "output_type": "stream",
          "text": [
            "(858, 25, 67, 1)\n",
            "(858, 5, 10)\n",
            "(80, 25, 67, 1)\n",
            "(80, 5, 10)\n"
          ],
          "name": "stdout"
        }
      ]
    },
    {
      "cell_type": "code",
      "metadata": {
        "id": "C5D3WK9H_gbW"
      },
      "source": [
        "input_layer = Input((25, 67, 1))\n",
        "x = Conv2D(filters=32, kernel_size=(5, 5), padding='same', activation='relu')(input_layer)\n",
        "x = MaxPooling2D(pool_size=(2, 2))(x)\n",
        "\n",
        "x = Conv2D(filters=48, kernel_size=(5, 5), padding='same', activation='relu')(x)\n",
        "x = MaxPooling2D(pool_size=(2, 2))(x)\n",
        "\n",
        "x = Conv2D(filters=64, kernel_size=(5, 5), padding='same', activation='relu')(x)\n",
        "x = MaxPooling2D(pool_size=(2, 2))(x)\n",
        "\n",
        "x = Conv2D(filters=128, kernel_size=(5, 5), padding='same', activation='relu')(x)\n",
        "x = MaxPooling2D(pool_size=(2, 2))(x)\n",
        "\n",
        "x = Dropout(0.3)(x)\n",
        "x = Flatten()(x)\n",
        "x = Dense(512, activation='relu')(x)\n",
        "x = Dropout(0.3)(x)\n",
        "\n",
        "out = [Dense(10, name='digit%d' % i, activation='softmax')(x) for i in range(NUM_OF_LETTERS)]\n",
        "model = Model(inputs=input_layer, outputs=out)"
      ],
      "execution_count": 132,
      "outputs": []
    },
    {
      "cell_type": "code",
      "metadata": {
        "colab": {
          "base_uri": "https://localhost:8080/"
        },
        "id": "9jpgPyOm_tZ3",
        "outputId": "f2d48e5f-dfe2-45f9-a524-7d40c3b8ea3f"
      },
      "source": [
        "model.compile(loss='binary_crossentropy',\n",
        "              optimizer='adam',\n",
        "              metrics=['accuracy'])\n",
        "\n",
        "\n",
        "model.summary()"
      ],
      "execution_count": 133,
      "outputs": [
        {
          "output_type": "stream",
          "text": [
            "Model: \"model_3\"\n",
            "__________________________________________________________________________________________________\n",
            "Layer (type)                    Output Shape         Param #     Connected to                     \n",
            "==================================================================================================\n",
            "input_4 (InputLayer)            [(None, 25, 67, 1)]  0                                            \n",
            "__________________________________________________________________________________________________\n",
            "conv2d_9 (Conv2D)               (None, 25, 67, 32)   832         input_4[0][0]                    \n",
            "__________________________________________________________________________________________________\n",
            "max_pooling2d_9 (MaxPooling2D)  (None, 12, 33, 32)   0           conv2d_9[0][0]                   \n",
            "__________________________________________________________________________________________________\n",
            "conv2d_10 (Conv2D)              (None, 12, 33, 48)   38448       max_pooling2d_9[0][0]            \n",
            "__________________________________________________________________________________________________\n",
            "max_pooling2d_10 (MaxPooling2D) (None, 6, 16, 48)    0           conv2d_10[0][0]                  \n",
            "__________________________________________________________________________________________________\n",
            "conv2d_11 (Conv2D)              (None, 6, 16, 64)    76864       max_pooling2d_10[0][0]           \n",
            "__________________________________________________________________________________________________\n",
            "max_pooling2d_11 (MaxPooling2D) (None, 3, 8, 64)     0           conv2d_11[0][0]                  \n",
            "__________________________________________________________________________________________________\n",
            "conv2d_12 (Conv2D)              (None, 3, 8, 128)    204928      max_pooling2d_11[0][0]           \n",
            "__________________________________________________________________________________________________\n",
            "max_pooling2d_12 (MaxPooling2D) (None, 1, 4, 128)    0           conv2d_12[0][0]                  \n",
            "__________________________________________________________________________________________________\n",
            "dropout_6 (Dropout)             (None, 1, 4, 128)    0           max_pooling2d_12[0][0]           \n",
            "__________________________________________________________________________________________________\n",
            "flatten_3 (Flatten)             (None, 512)          0           dropout_6[0][0]                  \n",
            "__________________________________________________________________________________________________\n",
            "dense_3 (Dense)                 (None, 512)          262656      flatten_3[0][0]                  \n",
            "__________________________________________________________________________________________________\n",
            "dropout_7 (Dropout)             (None, 512)          0           dense_3[0][0]                    \n",
            "__________________________________________________________________________________________________\n",
            "digit0 (Dense)                  (None, 10)           5130        dropout_7[0][0]                  \n",
            "__________________________________________________________________________________________________\n",
            "digit1 (Dense)                  (None, 10)           5130        dropout_7[0][0]                  \n",
            "__________________________________________________________________________________________________\n",
            "digit2 (Dense)                  (None, 10)           5130        dropout_7[0][0]                  \n",
            "__________________________________________________________________________________________________\n",
            "digit3 (Dense)                  (None, 10)           5130        dropout_7[0][0]                  \n",
            "__________________________________________________________________________________________________\n",
            "digit4 (Dense)                  (None, 10)           5130        dropout_7[0][0]                  \n",
            "==================================================================================================\n",
            "Total params: 609,378\n",
            "Trainable params: 609,378\n",
            "Non-trainable params: 0\n",
            "__________________________________________________________________________________________________\n"
          ],
          "name": "stdout"
        }
      ]
    },
    {
      "cell_type": "code",
      "metadata": {
        "id": "28RARUMl_yHZ"
      },
      "source": [
        "\n",
        "s_train = []\n",
        "s_test = []\n",
        "for i in range(NUM_OF_LETTERS):\n",
        "    s_train.append(y_train[:, i, :])\n",
        "    s_test.append(y_test[:, i, :])"
      ],
      "execution_count": 119,
      "outputs": []
    },
    {
      "cell_type": "code",
      "metadata": {
        "id": "a2BgQU-oASBL"
      },
      "source": [
        "hist_train_loss_digit = {i:[] for i in range(5)}\n",
        "hist_test_loss_digit = {i:[] for i in range(5)}\n",
        "\n",
        "hist_train_acc_digit = {i:[] for i in range(5)}\n",
        "hist_test_acc_digit = {i:[] for i in range(5)}\n",
        "\n",
        "hist_train_loss = []\n",
        "hist_test_loss = []\n",
        "\n",
        "hist_train_acc = []\n",
        "hist_test_acc = []"
      ],
      "execution_count": 33,
      "outputs": []
    },
    {
      "cell_type": "code",
      "metadata": {
        "id": "RlsIXaE_AVkA"
      },
      "source": [
        "digit_acc = [[] for _ in range(NUM_OF_LETTERS)]\n",
        "val_digit_acc = [[] for _ in range(NUM_OF_LETTERS)]\n",
        "loss = []\n",
        "val_loss = []\n"
      ],
      "execution_count": 34,
      "outputs": []
    },
    {
      "cell_type": "code",
      "metadata": {
        "colab": {
          "base_uri": "https://localhost:8080/"
        },
        "id": "KpSd5L8CAIWJ",
        "outputId": "9b23a17d-e76c-4914-86a2-8ebe0b6ee955"
      },
      "source": [
        "history = model.fit(x_train, s_train,\n",
        "                    batch_size=32,\n",
        "                    epochs=10,\n",
        "                    verbose=1,\n",
        "                    validation_data=(x_test, s_test)\n",
        "                   )"
      ],
      "execution_count": 146,
      "outputs": [
        {
          "output_type": "stream",
          "text": [
            "Epoch 1/10\n",
            "27/27 [==============================] - 7s 253ms/step - loss: 0.2935 - digit0_loss: 0.0481 - digit1_loss: 0.0622 - digit2_loss: 0.0619 - digit3_loss: 0.0649 - digit4_loss: 0.0563 - digit0_accuracy: 0.9441 - digit1_accuracy: 0.9207 - digit2_accuracy: 0.9231 - digit3_accuracy: 0.9149 - digit4_accuracy: 0.9301 - val_loss: 0.8393 - val_digit0_loss: 0.1041 - val_digit1_loss: 0.1584 - val_digit2_loss: 0.2039 - val_digit3_loss: 0.2144 - val_digit4_loss: 0.1585 - val_digit0_accuracy: 0.8250 - val_digit1_accuracy: 0.6625 - val_digit2_accuracy: 0.5875 - val_digit3_accuracy: 0.5125 - val_digit4_accuracy: 0.6250\n",
            "Epoch 2/10\n",
            "27/27 [==============================] - 6s 213ms/step - loss: 0.2713 - digit0_loss: 0.0394 - digit1_loss: 0.0581 - digit2_loss: 0.0548 - digit3_loss: 0.0645 - digit4_loss: 0.0545 - digit0_accuracy: 0.9580 - digit1_accuracy: 0.9382 - digit2_accuracy: 0.9359 - digit3_accuracy: 0.9114 - digit4_accuracy: 0.9347 - val_loss: 0.8985 - val_digit0_loss: 0.0962 - val_digit1_loss: 0.1799 - val_digit2_loss: 0.2272 - val_digit3_loss: 0.2281 - val_digit4_loss: 0.1672 - val_digit0_accuracy: 0.8250 - val_digit1_accuracy: 0.6250 - val_digit2_accuracy: 0.5750 - val_digit3_accuracy: 0.5000 - val_digit4_accuracy: 0.6250\n",
            "Epoch 3/10\n",
            "27/27 [==============================] - 6s 215ms/step - loss: 0.2703 - digit0_loss: 0.0367 - digit1_loss: 0.0572 - digit2_loss: 0.0601 - digit3_loss: 0.0647 - digit4_loss: 0.0515 - digit0_accuracy: 0.9685 - digit1_accuracy: 0.9277 - digit2_accuracy: 0.9324 - digit3_accuracy: 0.9091 - digit4_accuracy: 0.9382 - val_loss: 0.8663 - val_digit0_loss: 0.0994 - val_digit1_loss: 0.1740 - val_digit2_loss: 0.2190 - val_digit3_loss: 0.2138 - val_digit4_loss: 0.1601 - val_digit0_accuracy: 0.7750 - val_digit1_accuracy: 0.6375 - val_digit2_accuracy: 0.6125 - val_digit3_accuracy: 0.5625 - val_digit4_accuracy: 0.6375\n",
            "Epoch 4/10\n",
            "27/27 [==============================] - 6s 231ms/step - loss: 0.2603 - digit0_loss: 0.0393 - digit1_loss: 0.0517 - digit2_loss: 0.0553 - digit3_loss: 0.0642 - digit4_loss: 0.0497 - digit0_accuracy: 0.9545 - digit1_accuracy: 0.9452 - digit2_accuracy: 0.9312 - digit3_accuracy: 0.9172 - digit4_accuracy: 0.9382 - val_loss: 0.8461 - val_digit0_loss: 0.0924 - val_digit1_loss: 0.1753 - val_digit2_loss: 0.2132 - val_digit3_loss: 0.2143 - val_digit4_loss: 0.1509 - val_digit0_accuracy: 0.8500 - val_digit1_accuracy: 0.6875 - val_digit2_accuracy: 0.6000 - val_digit3_accuracy: 0.5375 - val_digit4_accuracy: 0.6750\n",
            "Epoch 5/10\n",
            "27/27 [==============================] - 6s 220ms/step - loss: 0.2361 - digit0_loss: 0.0354 - digit1_loss: 0.0497 - digit2_loss: 0.0546 - digit3_loss: 0.0551 - digit4_loss: 0.0412 - digit0_accuracy: 0.9674 - digit1_accuracy: 0.9394 - digit2_accuracy: 0.9394 - digit3_accuracy: 0.9312 - digit4_accuracy: 0.9604 - val_loss: 0.8361 - val_digit0_loss: 0.0963 - val_digit1_loss: 0.1853 - val_digit2_loss: 0.2098 - val_digit3_loss: 0.2116 - val_digit4_loss: 0.1332 - val_digit0_accuracy: 0.7875 - val_digit1_accuracy: 0.6750 - val_digit2_accuracy: 0.6500 - val_digit3_accuracy: 0.5500 - val_digit4_accuracy: 0.6875\n",
            "Epoch 6/10\n",
            "27/27 [==============================] - 6s 228ms/step - loss: 0.2227 - digit0_loss: 0.0336 - digit1_loss: 0.0473 - digit2_loss: 0.0468 - digit3_loss: 0.0550 - digit4_loss: 0.0400 - digit0_accuracy: 0.9744 - digit1_accuracy: 0.9441 - digit2_accuracy: 0.9557 - digit3_accuracy: 0.9441 - digit4_accuracy: 0.9592 - val_loss: 0.8716 - val_digit0_loss: 0.1067 - val_digit1_loss: 0.1810 - val_digit2_loss: 0.2228 - val_digit3_loss: 0.2095 - val_digit4_loss: 0.1516 - val_digit0_accuracy: 0.7750 - val_digit1_accuracy: 0.6875 - val_digit2_accuracy: 0.6375 - val_digit3_accuracy: 0.6125 - val_digit4_accuracy: 0.6875\n",
            "Epoch 7/10\n",
            "27/27 [==============================] - 6s 220ms/step - loss: 0.2189 - digit0_loss: 0.0321 - digit1_loss: 0.0451 - digit2_loss: 0.0482 - digit3_loss: 0.0525 - digit4_loss: 0.0410 - digit0_accuracy: 0.9720 - digit1_accuracy: 0.9429 - digit2_accuracy: 0.9487 - digit3_accuracy: 0.9417 - digit4_accuracy: 0.9534 - val_loss: 0.8492 - val_digit0_loss: 0.0953 - val_digit1_loss: 0.1852 - val_digit2_loss: 0.2019 - val_digit3_loss: 0.2094 - val_digit4_loss: 0.1575 - val_digit0_accuracy: 0.8125 - val_digit1_accuracy: 0.6250 - val_digit2_accuracy: 0.6000 - val_digit3_accuracy: 0.5500 - val_digit4_accuracy: 0.6625\n",
            "Epoch 8/10\n",
            "27/27 [==============================] - 6s 209ms/step - loss: 0.2202 - digit0_loss: 0.0307 - digit1_loss: 0.0438 - digit2_loss: 0.0494 - digit3_loss: 0.0515 - digit4_loss: 0.0449 - digit0_accuracy: 0.9709 - digit1_accuracy: 0.9487 - digit2_accuracy: 0.9452 - digit3_accuracy: 0.9476 - digit4_accuracy: 0.9499 - val_loss: 0.8635 - val_digit0_loss: 0.0914 - val_digit1_loss: 0.1868 - val_digit2_loss: 0.2199 - val_digit3_loss: 0.2135 - val_digit4_loss: 0.1519 - val_digit0_accuracy: 0.8125 - val_digit1_accuracy: 0.6250 - val_digit2_accuracy: 0.6000 - val_digit3_accuracy: 0.5750 - val_digit4_accuracy: 0.6750\n",
            "Epoch 9/10\n",
            "27/27 [==============================] - 6s 211ms/step - loss: 0.2234 - digit0_loss: 0.0320 - digit1_loss: 0.0425 - digit2_loss: 0.0519 - digit3_loss: 0.0512 - digit4_loss: 0.0458 - digit0_accuracy: 0.9744 - digit1_accuracy: 0.9650 - digit2_accuracy: 0.9371 - digit3_accuracy: 0.9464 - digit4_accuracy: 0.9464 - val_loss: 0.8659 - val_digit0_loss: 0.0911 - val_digit1_loss: 0.1914 - val_digit2_loss: 0.2313 - val_digit3_loss: 0.2168 - val_digit4_loss: 0.1352 - val_digit0_accuracy: 0.7875 - val_digit1_accuracy: 0.6375 - val_digit2_accuracy: 0.6125 - val_digit3_accuracy: 0.5250 - val_digit4_accuracy: 0.7000\n",
            "Epoch 10/10\n",
            "27/27 [==============================] - 6s 208ms/step - loss: 0.1899 - digit0_loss: 0.0257 - digit1_loss: 0.0422 - digit2_loss: 0.0420 - digit3_loss: 0.0472 - digit4_loss: 0.0327 - digit0_accuracy: 0.9732 - digit1_accuracy: 0.9499 - digit2_accuracy: 0.9510 - digit3_accuracy: 0.9312 - digit4_accuracy: 0.9604 - val_loss: 0.8610 - val_digit0_loss: 0.0942 - val_digit1_loss: 0.1677 - val_digit2_loss: 0.2129 - val_digit3_loss: 0.2259 - val_digit4_loss: 0.1603 - val_digit0_accuracy: 0.8250 - val_digit1_accuracy: 0.7000 - val_digit2_accuracy: 0.6625 - val_digit3_accuracy: 0.5125 - val_digit4_accuracy: 0.7000\n"
          ],
          "name": "stdout"
        }
      ]
    },
    {
      "cell_type": "code",
      "metadata": {
        "colab": {
          "base_uri": "https://localhost:8080/"
        },
        "id": "1racV1R2AM4K",
        "outputId": "78e83aaa-352b-4799-d19f-fbcf0543da2c"
      },
      "source": [
        "y_train"
      ],
      "execution_count": 37,
      "outputs": [
        {
          "output_type": "execute_result",
          "data": {
            "text/plain": [
              "array([[[0., 0., 1., ..., 0., 0., 0.],\n",
              "        [0., 0., 0., ..., 0., 0., 0.],\n",
              "        [0., 1., 0., ..., 0., 0., 0.],\n",
              "        [0., 0., 0., ..., 0., 0., 0.],\n",
              "        [0., 1., 0., ..., 0., 0., 0.]],\n",
              "\n",
              "       [[0., 0., 1., ..., 0., 0., 0.],\n",
              "        [0., 0., 0., ..., 0., 0., 0.],\n",
              "        [0., 0., 0., ..., 0., 0., 0.],\n",
              "        [0., 0., 0., ..., 0., 0., 0.],\n",
              "        [0., 0., 0., ..., 0., 0., 0.]],\n",
              "\n",
              "       [[0., 0., 0., ..., 0., 0., 0.],\n",
              "        [0., 0., 0., ..., 0., 0., 0.],\n",
              "        [0., 0., 0., ..., 0., 0., 0.],\n",
              "        [0., 0., 0., ..., 0., 0., 0.],\n",
              "        [0., 0., 0., ..., 1., 0., 0.]],\n",
              "\n",
              "       ...,\n",
              "\n",
              "       [[0., 0., 0., ..., 0., 0., 1.],\n",
              "        [0., 1., 0., ..., 0., 0., 0.],\n",
              "        [0., 0., 0., ..., 0., 0., 0.],\n",
              "        [0., 0., 0., ..., 0., 0., 1.],\n",
              "        [0., 0., 0., ..., 0., 1., 0.]],\n",
              "\n",
              "       [[0., 1., 0., ..., 0., 0., 0.],\n",
              "        [0., 0., 1., ..., 0., 0., 0.],\n",
              "        [0., 0., 0., ..., 0., 0., 1.],\n",
              "        [0., 0., 0., ..., 0., 0., 0.],\n",
              "        [0., 0., 0., ..., 0., 1., 0.]],\n",
              "\n",
              "       [[0., 0., 0., ..., 0., 0., 0.],\n",
              "        [0., 0., 0., ..., 0., 0., 0.],\n",
              "        [0., 0., 0., ..., 1., 0., 0.],\n",
              "        [0., 0., 0., ..., 0., 0., 0.],\n",
              "        [0., 0., 0., ..., 1., 0., 0.]]])"
            ]
          },
          "metadata": {
            "tags": []
          },
          "execution_count": 37
        }
      ]
    },
    {
      "cell_type": "code",
      "metadata": {
        "colab": {
          "base_uri": "https://localhost:8080/"
        },
        "id": "mxn2q0iDCnOA",
        "outputId": "cca944b2-fd60-48e1-9bda-50694fba8383"
      },
      "source": [
        "s_train"
      ],
      "execution_count": 49,
      "outputs": [
        {
          "output_type": "execute_result",
          "data": {
            "text/plain": [
              "[array([[0., 0., 1., ..., 0., 0., 0.],\n",
              "        [0., 0., 1., ..., 0., 0., 0.],\n",
              "        [0., 0., 0., ..., 0., 0., 0.],\n",
              "        ...,\n",
              "        [0., 0., 0., ..., 0., 0., 1.],\n",
              "        [0., 1., 0., ..., 0., 0., 0.],\n",
              "        [0., 0., 0., ..., 0., 0., 0.]]), array([[0., 0., 0., ..., 0., 0., 0.],\n",
              "        [0., 0., 0., ..., 0., 0., 0.],\n",
              "        [0., 0., 0., ..., 0., 0., 0.],\n",
              "        ...,\n",
              "        [0., 1., 0., ..., 0., 0., 0.],\n",
              "        [0., 0., 1., ..., 0., 0., 0.],\n",
              "        [0., 0., 0., ..., 0., 0., 0.]]), array([[0., 1., 0., ..., 0., 0., 0.],\n",
              "        [0., 0., 0., ..., 0., 0., 0.],\n",
              "        [0., 0., 0., ..., 0., 0., 0.],\n",
              "        ...,\n",
              "        [0., 0., 0., ..., 0., 0., 0.],\n",
              "        [0., 0., 0., ..., 0., 0., 1.],\n",
              "        [0., 0., 0., ..., 1., 0., 0.]]), array([[0., 0., 0., ..., 0., 0., 0.],\n",
              "        [0., 0., 0., ..., 0., 0., 0.],\n",
              "        [0., 0., 0., ..., 0., 0., 0.],\n",
              "        ...,\n",
              "        [0., 0., 0., ..., 0., 0., 1.],\n",
              "        [0., 0., 0., ..., 0., 0., 0.],\n",
              "        [0., 0., 0., ..., 0., 0., 0.]]), array([[0., 1., 0., ..., 0., 0., 0.],\n",
              "        [0., 0., 0., ..., 0., 0., 0.],\n",
              "        [0., 0., 0., ..., 1., 0., 0.],\n",
              "        ...,\n",
              "        [0., 0., 0., ..., 0., 1., 0.],\n",
              "        [0., 0., 0., ..., 0., 1., 0.],\n",
              "        [0., 0., 0., ..., 1., 0., 0.]])]"
            ]
          },
          "metadata": {
            "tags": []
          },
          "execution_count": 49
        }
      ]
    },
    {
      "cell_type": "code",
      "metadata": {
        "id": "VZqPvpB7bduw"
      },
      "source": [
        "def transform_data(path):\n",
        "    print ('loading dataset...')\n",
        "    x = []\n",
        "    y=[]\n",
        "    # r=root, d=directories, f = files\n",
        "    counter = 0\n",
        "    for r, d, f in os.walk(path):\n",
        "        for fl in f[:20]:\n",
        "            if '.png' in fl:\n",
        "                flr = fl.split('_')[0]\n",
        "                counter += 1\n",
        "                y.append(flr)\n",
        "\n",
        "                img = cv2.imread(os.path.join(r, fl))\n",
        "                cv2_imshow(img)\n",
        "                img = cv2.cvtColor(img, cv2.COLOR_BGR2GRAY)\n",
        "                img = cv2.resize(img, (int(135/2), int(50/2)), interpolation=cv2.INTER_AREA)\n",
        "                img = np.reshape(img, (img.shape[0], img.shape[1], 1))\n",
        "                x.append(img)\n",
        "\n",
        "\n",
        "    print('dataset size:', counter)\n",
        "    return np.array(x),y"
      ],
      "execution_count": 140,
      "outputs": []
    },
    {
      "cell_type": "code",
      "metadata": {
        "colab": {
          "base_uri": "https://localhost:8080/",
          "height": 892
        },
        "id": "m1pVX7FDCsIB",
        "outputId": "06fc3b31-c31b-465d-8c15-fb780b7244a9"
      },
      "source": [
        "NUM_OF_LETTERS=5\n",
        "x,k = transform_data('./electoral-captchas')\n",
        "x = x.astype('float32')"
      ],
      "execution_count": 147,
      "outputs": [
        {
          "output_type": "stream",
          "text": [
            "loading dataset...\n"
          ],
          "name": "stdout"
        },
        {
          "output_type": "display_data",
          "data": {
            "image/png": "[encoded data removed]",
            "text/plain": [
              "<PIL.Image.Image image mode=RGB size=130x42 at 0x7F6ABC402DA0>"
            ]
          },
          "metadata": {
            "tags": []
          }
        },
        {
          "output_type": "display_data",
          "data": {
            "image/png": "[encoded data removed]",
            "text/plain": [
              "<PIL.Image.Image image mode=RGB size=130x42 at 0x7F6ABC4025F8>"
            ]
          },
          "metadata": {
            "tags": []
          }
        },
        {
          "output_type": "display_data",
          "data": {
            "image/png": "[encoded data removed]",
            "text/plain": [
              "<PIL.Image.Image image mode=RGB size=130x42 at 0x7F6ABC402CC0>"
            ]
          },
          "metadata": {
            "tags": []
          }
        },
        {
          "output_type": "display_data",
          "data": {
            "image/png": "[encoded data removed]",
            "text/plain": [
              "<PIL.Image.Image image mode=RGB size=130x42 at 0x7F6ABC402860>"
            ]
          },
          "metadata": {
            "tags": []
          }
        },
        {
          "output_type": "display_data",
          "data": {
            "image/png": "[encoded data removed]",
            "text/plain": [
              "<PIL.Image.Image image mode=RGB size=130x42 at 0x7F6ABC402080>"
            ]
          },
          "metadata": {
            "tags": []
          }
        },
        {
          "output_type": "display_data",
          "data": {
            "image/png": "[encoded data removed]",
            "text/plain": [
              "<PIL.Image.Image image mode=RGB size=130x42 at 0x7F6ABC4028D0>"
            ]
          },
          "metadata": {
            "tags": []
          }
        },
        {
          "output_type": "display_data",
          "data": {
            "image/png": "[encoded data removed]",
            "text/plain": [
              "<PIL.Image.Image image mode=RGB size=130x42 at 0x7F6ABC402D30>"
            ]
          },
          "metadata": {
            "tags": []
          }
        },
        {
          "output_type": "display_data",
          "data": {
            "image/png": "[encoded data removed]",
            "text/plain": [
              "<PIL.Image.Image image mode=RGB size=130x42 at 0x7F6ABC402DA0>"
            ]
          },
          "metadata": {
            "tags": []
          }
        },
        {
          "output_type": "display_data",
          "data": {
            "image/png": "[encoded data removed]",
            "text/plain": [
              "<PIL.Image.Image image mode=RGB size=130x42 at 0x7F6ABC4025F8>"
            ]
          },
          "metadata": {
            "tags": []
          }
        },
        {
          "output_type": "display_data",
          "data": {
            "image/png": "[encoded data removed]",
            "text/plain": [
              "<PIL.Image.Image image mode=RGB size=130x42 at 0x7F6ABC402CC0>"
            ]
          },
          "metadata": {
            "tags": []
          }
        },
        {
          "output_type": "display_data",
          "data": {
            "image/png": "[encoded data removed]",
            "text/plain": [
              "<PIL.Image.Image image mode=RGB size=130x42 at 0x7F6ABC402860>"
            ]
          },
          "metadata": {
            "tags": []
          }
        },
        {
          "output_type": "display_data",
          "data": {
            "image/png": "[encoded data removed]",
            "text/plain": [
              "<PIL.Image.Image image mode=RGB size=130x42 at 0x7F6ABC402080>"
            ]
          },
          "metadata": {
            "tags": []
          }
        },
        {
          "output_type": "display_data",
          "data": {
            "image/png": "[encoded data removed]",
            "text/plain": [
              "<PIL.Image.Image image mode=RGB size=130x42 at 0x7F6ABC4028D0>"
            ]
          },
          "metadata": {
            "tags": []
          }
        },
        {
          "output_type": "display_data",
          "data": {
            "image/png": "[encoded data removed]",
            "text/plain": [
              "<PIL.Image.Image image mode=RGB size=130x42 at 0x7F6ABC402D30>"
            ]
          },
          "metadata": {
            "tags": []
          }
        },
        {
          "output_type": "display_data",
          "data": {
            "image/png": "[encoded data removed]",
            "text/plain": [
              "<PIL.Image.Image image mode=RGB size=130x42 at 0x7F6ABC402DA0>"
            ]
          },
          "metadata": {
            "tags": []
          }
        },
        {
          "output_type": "display_data",
          "data": {
            "image/png": "[encoded data removed]",
            "text/plain": [
              "<PIL.Image.Image image mode=RGB size=130x42 at 0x7F6ABC4025F8>"
            ]
          },
          "metadata": {
            "tags": []
          }
        },
        {
          "output_type": "display_data",
          "data": {
            "image/png": "[encoded data removed]",
            "text/plain": [
              "<PIL.Image.Image image mode=RGB size=130x42 at 0x7F6ABC402CC0>"
            ]
          },
          "metadata": {
            "tags": []
          }
        },
        {
          "output_type": "display_data",
          "data": {
            "image/png": "[encoded data removed]",
            "text/plain": [
              "<PIL.Image.Image image mode=RGB size=130x42 at 0x7F6ABC402860>"
            ]
          },
          "metadata": {
            "tags": []
          }
        },
        {
          "output_type": "display_data",
          "data": {
            "image/png": "[encoded data removed]",
            "text/plain": [
              "<PIL.Image.Image image mode=RGB size=130x42 at 0x7F6ABC402080>"
            ]
          },
          "metadata": {
            "tags": []
          }
        },
        {
          "output_type": "display_data",
          "data": {
            "image/png": "[encoded data removed]",
            "text/plain": [
              "<PIL.Image.Image image mode=RGB size=130x42 at 0x7F6ABC4028D0>"
            ]
          },
          "metadata": {
            "tags": []
          }
        },
        {
          "output_type": "stream",
          "text": [
            "dataset size: 20\n"
          ],
          "name": "stdout"
        }
      ]
    },
    {
      "cell_type": "code",
      "metadata": {
        "id": "EEtBhvhIcGn3"
      },
      "source": [
        "y=model.predict(x)"
      ],
      "execution_count": 148,
      "outputs": []
    },
    {
      "cell_type": "code",
      "metadata": {
        "id": "Y0VuFDTddAXS"
      },
      "source": [
        "y=np.argmax(y, axis=2)"
      ],
      "execution_count": 149,
      "outputs": []
    },
    {
      "cell_type": "code",
      "metadata": {
        "id": "ABMi1aqreKy2"
      },
      "source": [
        "l=[]\n",
        "for i in range(y.shape[1]):\n",
        "  num=y[0][i]*10000+y[1][i]*1000+y[2][i]*100+y[3][i]*10+y[4][i]\n",
        "  l.append(num)"
      ],
      "execution_count": 150,
      "outputs": []
    },
    {
      "cell_type": "code",
      "metadata": {
        "colab": {
          "base_uri": "https://localhost:8080/"
        },
        "id": "GdADvVt2eQy0",
        "outputId": "faa1c0e8-3b4b-421b-d9ee-00818d1d7a97"
      },
      "source": [
        "l"
      ],
      "execution_count": 151,
      "outputs": [
        {
          "output_type": "execute_result",
          "data": {
            "text/plain": [
              "[72125,\n",
              " 12229,\n",
              " 27537,\n",
              " 98477,\n",
              " 97174,\n",
              " 88419,\n",
              " 73191,\n",
              " 95617,\n",
              " 69562,\n",
              " 44197,\n",
              " 33919,\n",
              " 21412,\n",
              " 88584,\n",
              " 44177,\n",
              " 81567,\n",
              " 24111,\n",
              " 61158,\n",
              " 14461,\n",
              " 41322,\n",
              " 16892]"
            ]
          },
          "metadata": {
            "tags": []
          },
          "execution_count": 151
        }
      ]
    },
    {
      "cell_type": "code",
      "metadata": {
        "colab": {
          "base_uri": "https://localhost:8080/"
        },
        "id": "FbYBrP2lf7op",
        "outputId": "f92de54f-56ca-4e0f-fc33-a4d54d5792f7"
      },
      "source": [
        "y_train"
      ],
      "execution_count": 69,
      "outputs": [
        {
          "output_type": "execute_result",
          "data": {
            "text/plain": [
              "array([[[0., 0., 1., ..., 0., 0., 0.],\n",
              "        [0., 0., 0., ..., 0., 0., 0.],\n",
              "        [0., 1., 0., ..., 0., 0., 0.],\n",
              "        [0., 0., 0., ..., 0., 0., 0.],\n",
              "        [0., 1., 0., ..., 0., 0., 0.]],\n",
              "\n",
              "       [[0., 0., 1., ..., 0., 0., 0.],\n",
              "        [0., 0., 0., ..., 0., 0., 0.],\n",
              "        [0., 0., 0., ..., 0., 0., 0.],\n",
              "        [0., 0., 0., ..., 0., 0., 0.],\n",
              "        [0., 0., 0., ..., 0., 0., 0.]],\n",
              "\n",
              "       [[0., 0., 0., ..., 0., 0., 0.],\n",
              "        [0., 0., 0., ..., 0., 0., 0.],\n",
              "        [0., 0., 0., ..., 0., 0., 0.],\n",
              "        [0., 0., 0., ..., 0., 0., 0.],\n",
              "        [0., 0., 0., ..., 1., 0., 0.]],\n",
              "\n",
              "       ...,\n",
              "\n",
              "       [[0., 0., 0., ..., 0., 0., 1.],\n",
              "        [0., 1., 0., ..., 0., 0., 0.],\n",
              "        [0., 0., 0., ..., 0., 0., 0.],\n",
              "        [0., 0., 0., ..., 0., 0., 1.],\n",
              "        [0., 0., 0., ..., 0., 1., 0.]],\n",
              "\n",
              "       [[0., 1., 0., ..., 0., 0., 0.],\n",
              "        [0., 0., 1., ..., 0., 0., 0.],\n",
              "        [0., 0., 0., ..., 0., 0., 1.],\n",
              "        [0., 0., 0., ..., 0., 0., 0.],\n",
              "        [0., 0., 0., ..., 0., 1., 0.]],\n",
              "\n",
              "       [[0., 0., 0., ..., 0., 0., 0.],\n",
              "        [0., 0., 0., ..., 0., 0., 0.],\n",
              "        [0., 0., 0., ..., 1., 0., 0.],\n",
              "        [0., 0., 0., ..., 0., 0., 0.],\n",
              "        [0., 0., 0., ..., 1., 0., 0.]]])"
            ]
          },
          "metadata": {
            "tags": []
          },
          "execution_count": 69
        }
      ]
    },
    {
      "cell_type": "code",
      "metadata": {
        "id": "HQsCyPJQgS-9"
      },
      "source": [
        ""
      ],
      "execution_count": null,
      "outputs": []
    }
  ]
}